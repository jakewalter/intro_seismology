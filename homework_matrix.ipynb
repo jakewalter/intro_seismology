{
  "nbformat": 4,
  "nbformat_minor": 0,
  "metadata": {
    "colab": {
      "provenance": [],
      "authorship_tag": "ABX9TyNGOp9A9nG3McmHqKuXA1Aw",
      "include_colab_link": true
    },
    "kernelspec": {
      "name": "python3",
      "display_name": "Python 3"
    },
    "language_info": {
      "name": "python"
    }
  },
  "cells": [
    {
      "cell_type": "markdown",
      "metadata": {
        "id": "view-in-github",
        "colab_type": "text"
      },
      "source": [
        "<a href=\"https://colab.research.google.com/github/jakewalter/intro_seismology/blob/main/homework_matrix.ipynb\" target=\"_parent\"><img src=\"https://colab.research.google.com/assets/colab-badge.svg\" alt=\"Open In Colab\"/></a>"
      ]
    },
    {
      "cell_type": "code",
      "execution_count": null,
      "metadata": {
        "id": "uu4Ecu2oqXec"
      },
      "outputs": [],
      "source": [
        "!pip install obspy\n",
        "\n",
        "from obspy import UTCDateTime\n",
        "from obspy.clients.fdsn import Client\n",
        "\n",
        "##### Find the time of the earthquake from https://wichita.ogs.ou.edu/staff/earthquake/events.html or https://earthquake.usgs.gov/\n",
        "starttime = UTCDateTime(\"2023-03-17T07:13:24.67\")\n",
        "endtime = UTCDateTime(\"2023-03-17T07:13:45.67\")\n",
        "\n",
        "##### Choose a station https://stationview.raspberryshake.org/\n",
        "sta1a = 'REBE1'\n",
        "client = Client('RASPISHAKE')\n",
        "\n",
        "##### Download waveforms\n",
        "tr = client.get_waveforms(network='*', station=sta1a, location='*', channel='SHZ', starttime=starttime, endtime=endtime)\n",
        "print(tr[0].stats)\n",
        "\n",
        "##### Plot waveforms\n",
        "tr.plot()\n"
      ]
    },
    {
      "cell_type": "markdown",
      "source": [
        "Now that we can plot a waveform. Notice there are no units. These are, by default, just digital counts. Let's try to get it in scientific units. To do this, you need to download the station metadata (the data that describes what is installed and where it is installed)"
      ],
      "metadata": {
        "id": "ip5A4cXKsLlG"
      }
    },
    {
      "cell_type": "code",
      "source": [
        "inv = client.get_stations(starttime=starttime, endtime=endtime,network=\"*\", loc=\"*\", channel='SHZ',station=sta1a,level=\"response\")\n",
        "print(inv[0][0])\n"
      ],
      "metadata": {
        "id": "F9H2zus9sP5k"
      },
      "execution_count": null,
      "outputs": []
    },
    {
      "cell_type": "code",
      "source": [
        "print(inv[0][0][0])\n"
      ],
      "metadata": {
        "id": "R8F4HWtbsjvo"
      },
      "execution_count": null,
      "outputs": []
    },
    {
      "cell_type": "code",
      "source": [
        "\n",
        "tr.remove_response(inventory=inv, pre_filt=[1, 2, 45, 50], output=\"DISP\",water_level=60)\n",
        "tr.plot()\n",
        "\n",
        "#What are the y-axis units?\n",
        "\n"
      ],
      "metadata": {
        "id": "pLLv5k8Ms7H7"
      },
      "execution_count": null,
      "outputs": []
    }
  ]
}