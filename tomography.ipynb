{
  "nbformat": 4,
  "nbformat_minor": 0,
  "metadata": {
    "colab": {
      "provenance": [],
      "authorship_tag": "ABX9TyOeOZhKvZMOcNNFad3l7kV0",
      "include_colab_link": true
    },
    "kernelspec": {
      "name": "python3",
      "display_name": "Python 3"
    },
    "language_info": {
      "name": "python"
    }
  },
  "cells": [
    {
      "cell_type": "markdown",
      "metadata": {
        "id": "view-in-github",
        "colab_type": "text"
      },
      "source": [
        "<a href=\"https://colab.research.google.com/github/jakewalter/intro_seismology/blob/main/tomography.ipynb\" target=\"_parent\"><img src=\"https://colab.research.google.com/assets/colab-badge.svg\" alt=\"Open In Colab\"/></a>"
      ]
    },
    {
      "cell_type": "markdown",
      "source": [
        "Define a grid and starting velocity\n"
      ],
      "metadata": {
        "id": "5e0Wtx0y9VpD"
      }
    },
    {
      "cell_type": "code",
      "execution_count": null,
      "metadata": {
        "id": "FtzKR0xtr1-z"
      },
      "outputs": [],
      "source": [
        "\n",
        "import numpy as np\n",
        "import matplotlib.pyplot as plt\n",
        "\n",
        "# intialize parameters and velocity perturbations\n",
        "# in this case, we have 20% velocity changes that alternate from 20% to\n",
        "# -20%, this is called \"checkerboard\" test.\n",
        "X = np.arange(0.5, 2.5+1,1)\n",
        "\n",
        "Y = np.arange(0.5, 2.5+1,1)\n",
        "\n",
        "V0 = np.ones((3, 3)) * 6  # this is the reference homogeneous velocity\n",
        "\n",
        "ds = np.zeros(9)\n",
        "for i in range(0, 9, 2):\n",
        "    ds[i] = 0.2  # ds is 20%, meaning slower velocity\n",
        "\n",
        "for i in range(1, 9, 2):\n",
        "    ds[i] = -0.2  # ds is -20%, meaning faster velocity\n",
        "\n",
        "DS = ds.reshape(3, 3)\n",
        "dv = -ds\n",
        "DV = dv.reshape(3, 3)\n",
        "\n",
        "plt.figure()\n",
        "plt.imshow(DV.T, extent=(0, 3, 0, 3), cmap='jet', vmin=-0.2, vmax=0.2)\n",
        "plt.colorbar(label='Velocity Perturbation')\n",
        "plt.title('Velocity Perturbation Percentage')\n",
        "plt.xlabel('X')\n",
        "plt.ylabel('Y')\n",
        "plt.gca().set_aspect('equal', adjustable='box')\n",
        "plt.savefig('vel_checkboard.png')\n",
        "plt.show()"
      ]
    },
    {
      "cell_type": "code",
      "source": [
        "\n",
        "V = V0 * (1 + DS)  # this is the \"actual\" velocity\n",
        "T0 = 1 / V0        # The length of each grid is 1. T0 is the expected travel\n",
        "                   # time within each grid with homogeneous velocity\n",
        "DT = T0 * DS       # this is the travel time anomaly contributed by each grid.\n",
        "dt = DT.reshape(9, 1)\n",
        "\n",
        "\n",
        "\n",
        "def dtoline(X, Y, s, r):\n",
        "    def point_to_line(pt, v1, v2):\n",
        "        a = v1 - v2\n",
        "        b = pt - v2\n",
        "        return np.linalg.norm(np.cross(a, b)) / np.linalg.norm(a)\n",
        "\n",
        "    nk = 0\n",
        "    d = np.zeros(len(X) * len(Y))\n",
        "\n",
        "    for i in range(len(X)):\n",
        "        for j in range(len(Y)):\n",
        "            P = np.array([X[i], Y[j], 0])\n",
        "            nk += 1\n",
        "            v1 = np.array([s[0], s[1], 0])\n",
        "            v2 = np.array([r[0], r[1], 0])\n",
        "            d[nk - 1] = point_to_line(P, v1, v2)\n",
        "\n",
        "    return d\n",
        "\n",
        "\n",
        "\n"
      ],
      "metadata": {
        "id": "E88OFz33r-sL"
      },
      "execution_count": null,
      "outputs": []
    },
    {
      "cell_type": "markdown",
      "source": [
        "First, consider incomplete ray coverage situation"
      ],
      "metadata": {
        "id": "S2fEBdTo9gkQ"
      }
    },
    {
      "cell_type": "code",
      "source": [
        "S = np.array([[0.5, 0],\n",
        "              [1.5, 0],\n",
        "              [2.5, 0],\n",
        "              [3, 0],\n",
        "              [0, 0.5],\n",
        "              [0, 1.5],\n",
        "              [0, 2.5],\n",
        "              [1.5, 0],\n",
        "              [1.5, 0],\n",
        "              [0, 0]])\n",
        "\n",
        "# R is the receiver location\n",
        "R = np.array([[0.5, 3],\n",
        "              [1.5, 3],\n",
        "              [2.5, 3],\n",
        "              [0, 3],\n",
        "              [3, 0.5],\n",
        "              [3, 1.5],\n",
        "              [3, 2.5],\n",
        "              [0, 3],\n",
        "              [3, 3],\n",
        "              [3, 3]])\n",
        "\n",
        "# Start to generate ray path\n",
        "plt.figure()\n",
        "plt.imshow(DV.T, extent=(0, 3, 0, 3), cmap='jet', vmin=-0.2, vmax=0.2)\n",
        "plt.colorbar(label='Velocity Perturbation')\n",
        "plt.title('Ray Coverage with Checkerboard Test')\n",
        "plt.xlabel('X')\n",
        "plt.ylabel('Y')\n",
        "plt.gca().set_aspect('equal', adjustable='box')\n",
        "\n",
        "G = np.zeros((70, 9))  # Preallocate G matrix\n",
        "dt_obs = np.zeros((70, 1))  # Preallocate observation matrix\n",
        "ng = 0\n",
        "\n",
        "for i in range(1, 5):\n",
        "    for j in range(1, 9):\n",
        "        s = S[i]\n",
        "        r = R[j]\n",
        "        plt.plot([s[0], r[0]], [s[1], r[1]], 'k')  # plot source-receiver pairs\n",
        "        plt.plot(s[0], s[1], 'r*', markersize=20)  # plot source\n",
        "        plt.plot(r[0], r[1], 'r^', markersize=20)  # plot receiver\n",
        "        d = dtoline(X, Y, s, r)\n",
        "        indi = np.zeros(d.shape)\n",
        "        indi[d <= 0.25] = 1  # find grids along ray path\n",
        "        ng += 1\n",
        "        G[ng - 1, :] = indi.flatten() / V0.flatten()\n",
        "        dt_obs[ng - 1, 0] = np.sum(dt[d <= 0.25]) + np.random.rand(1) * 0.01  # generate observation\n",
        "\n",
        "plt.axis('equal')\n",
        "plt.gca().invert_yaxis()\n",
        "plt.savefig('ray_coverage_bad.png')\n",
        "plt.show()\n"
      ],
      "metadata": {
        "id": "_tJDMoOoFL7e"
      },
      "execution_count": null,
      "outputs": []
    },
    {
      "cell_type": "markdown",
      "source": [
        "Now invert, notice the equation for m from the last lecture"
      ],
      "metadata": {
        "id": "bgGSkgJ39lXL"
      }
    },
    {
      "cell_type": "code",
      "source": [
        "# Inversion without regularization\n",
        "m = np.dot(np.dot(np.linalg.inv(np.dot(G.T,G)),G.T),dt_obs)\n",
        "ds_inv = m\n",
        "dv_inv = -ds_inv\n",
        "dpred = G.dot(m)\n",
        "residual = dt_obs - dpred\n",
        "misfit = np.sqrt(np.sum(residual[~np.isnan(residual)] ** 2))\n",
        "normm = np.sqrt(np.sum(m[~np.isnan(m)] ** 2))\n",
        "\n",
        "# Display inversion results\n",
        "plt.figure()\n",
        "DVinv = dv_inv.reshape(3, 3)\n",
        "b = plt.imshow(DVinv.T, extent=(0, 3, 0, 3), cmap='jet', vmin=-0.2, vmax=0.2)\n",
        "plt.colorbar(b, label='Velocity Perturbation')\n",
        "plt.title('Inversion of Velocity Perturbation')\n",
        "plt.xlabel('X')\n",
        "plt.ylabel('Y')\n",
        "plt.gca().set_aspect('equal', adjustable='box')\n",
        "plt.xlim([0, 3])\n",
        "plt.ylim([0, 3])\n",
        "plt.gca().invert_yaxis()\n",
        "plt.savefig('vel_inversion_checkboard_singular.png')\n",
        "\n",
        "plt.figure()\n",
        "DVdiff = DVinv - DV\n",
        "c = plt.imshow(DVdiff.T,extent=(0, 3, 0, 3), cmap='jet')\n",
        "plt.colorbar(c, label='Difference')\n",
        "plt.title('Difference between Inversion and Input')\n",
        "plt.xlabel('X')\n",
        "plt.ylabel('Y')\n",
        "plt.gca().set_aspect('equal', adjustable='box')\n",
        "plt.xlim([0, 3])\n",
        "plt.ylim([0, 3])\n",
        "plt.gca().invert_yaxis()\n",
        "plt.savefig('vel_inversion_checkboard_singular_difference.png')\n",
        "\n"
      ],
      "metadata": {
        "id": "dZ6YPbQNFkF-"
      },
      "execution_count": null,
      "outputs": []
    },
    {
      "cell_type": "markdown",
      "source": [
        "Now regularize the problem"
      ],
      "metadata": {
        "id": "DyG54aG99rVJ"
      }
    },
    {
      "cell_type": "code",
      "source": [
        "\n",
        "# Inversion with regularization (lambda=1)\n",
        "lambda_ = 1\n",
        "d_new = np.concatenate((dt_obs, np.zeros((9, 1))))\n",
        "G_new = np.vstack((G, lambda_ * np.eye(9)))\n",
        "m_lambda = np.dot(np.dot(np.linalg.inv(np.dot(G_new.T,G_new)),G_new.T),d_new)\n",
        "ds_inv_lambda = m_lambda\n",
        "dv_inv_lambda = -ds_inv_lambda\n",
        "\n",
        "# Display inversion results with regularization\n",
        "plt.figure()\n",
        "DVinv_lambda = dv_inv_lambda.reshape(3, 3)\n",
        "d = plt.imshow(DVinv_lambda.T, extent=(0, 3, 0, 3), cmap='jet')\n",
        "plt.colorbar(d, label='Velocity Perturbation')\n",
        "plt.title('Inversion of Velocity Perturbation with Regularization (lambda=1)')\n",
        "plt.xlabel('X')\n",
        "plt.ylabel('Y')\n",
        "plt.gca().set_aspect('equal', adjustable='box')\n",
        "plt.xlim([0, 3])\n",
        "plt.ylim([0, 3])\n",
        "plt.gca().invert_yaxis()\n",
        "plt.savefig('vel_inversion_checkboard_singular_lambda=1.png')\n",
        "\n",
        "plt.figure()\n",
        "DVdiff_lambda = DVinv_lambda - DV\n",
        "e = plt.imshow(DVdiff_lambda.T, extent=(0, 3, 0, 3), cmap='jet', vmin=-0.2, vmax=0.2)\n",
        "plt.colorbar(e, label='Difference')\n",
        "plt.title('Difference between Inversion with lambda=1 and Input')\n",
        "plt.xlabel('X')\n",
        "plt.ylabel('Y')\n",
        "plt.gca().set_aspect('equal', adjustable='box')\n",
        "plt.xlim([0, 3])\n",
        "plt.ylim([0, 3])\n",
        "plt.gca().invert_yaxis()\n",
        "plt.savefig('vel_inversion_checkboard_singular_lambda=1_difference.png')\n",
        "\n",
        "plt.show()"
      ],
      "metadata": {
        "id": "-jl6R_BKF1Lk"
      },
      "execution_count": null,
      "outputs": []
    },
    {
      "cell_type": "markdown",
      "source": [
        "Consider a different case with better ray coverage"
      ],
      "metadata": {
        "id": "Z9EuMp5K9zmS"
      }
    },
    {
      "cell_type": "code",
      "source": [
        "\n",
        "\n",
        "\n",
        "# S is the source location\n",
        "S = np.array([[0.5, 0],\n",
        "              [1.5, 0],\n",
        "              [2.5, 0],\n",
        "              [3, 0],\n",
        "              [0, 0.5],\n",
        "              [0, 1.5],\n",
        "              [0, 2.5],\n",
        "              [1.5, 0],\n",
        "              [1.5, 0],\n",
        "              [0, 0]])\n",
        "\n",
        "# R is the receiver location\n",
        "R = np.array([[0.5, 3],\n",
        "              [1.5, 3],\n",
        "              [2.5, 3],\n",
        "              [0, 3],\n",
        "              [3, 0.5],\n",
        "              [3, 1.5],\n",
        "              [3, 2.5],\n",
        "              [0, 3],\n",
        "              [3, 3],\n",
        "              [3, 3]])\n",
        "\n",
        "# Start to generate ray path\n",
        "plt.figure()\n",
        "plt.imshow(DV.T, extent=(0, 3, 0, 3), cmap='jet', vmin=-0.2, vmax=0.2)\n",
        "plt.colorbar(label='Velocity Perturbation')\n",
        "plt.title('Ray Coverage with Checkerboard Test')\n",
        "plt.xlabel('X')\n",
        "plt.ylabel('Y')\n",
        "plt.gca().set_aspect('equal', adjustable='box')\n",
        "\n",
        "\n",
        "G = np.zeros((100, 9))  # Preallocate G matrix\n",
        "dt_obs = np.zeros((100, 1))  # Preallocate observation matrix\n",
        "ng = 0\n",
        "\n",
        "for i in range(10):\n",
        "    for j in range(10):\n",
        "        s = S[i]\n",
        "        r = R[j]\n",
        "        plt.plot([s[0], r[0]], [s[1], r[1]], 'k')  # plot source-receiver pairs\n",
        "        plt.plot(s[0], s[1], 'r*', markersize=20)  # plot source\n",
        "        plt.plot(r[0], r[1], 'r^', markersize=20)  # plot receiver\n",
        "        d = dtoline(X, Y, s, r)\n",
        "        indi = np.zeros(d.shape)\n",
        "        indi[d <= 0.25] = 1  # find grids along ray path\n",
        "        ng += 1\n",
        "        G[ng - 1, :] = indi.flatten() / V0.flatten()\n",
        "        dt_obs[ng - 1, 0] = np.sum(dt[d <= 0.25]) + np.random.rand(1) * 0.01  # generate observation\n",
        "\n",
        "\n",
        "plt.axis('equal')\n",
        "plt.gca().invert_yaxis()\n",
        "plt.savefig('ray_coverage_good.png')\n",
        "plt.show()"
      ],
      "metadata": {
        "id": "WFkAfprmFT08"
      },
      "execution_count": null,
      "outputs": []
    },
    {
      "cell_type": "markdown",
      "source": [
        "Now solve"
      ],
      "metadata": {
        "id": "WQ_ZqnAs933U"
      }
    },
    {
      "cell_type": "code",
      "source": [
        "# Inversion without regularization\n",
        "m = np.dot(np.dot(np.linalg.inv(np.dot(G.T,G)),G.T),dt_obs)\n",
        "ds_inv = m\n",
        "dv_inv = -ds_inv\n",
        "dpred = G.dot(m)\n",
        "residual = dt_obs - dpred\n",
        "misfit = np.sqrt(np.sum(residual[~np.isnan(residual)] ** 2))\n",
        "normm = np.sqrt(np.sum(m[~np.isnan(m)] ** 2))\n",
        "\n",
        "# Display inversion results\n",
        "plt.figure()\n",
        "DVinv = dv_inv.reshape(3, 3)\n",
        "b = plt.imshow(DVinv.T, extent=(0, 3, 0, 3), cmap='jet', vmin=-0.2, vmax=0.2)\n",
        "plt.colorbar(b, label='Velocity Perturbation')\n",
        "plt.title('Inversion of Velocity Perturbation')\n",
        "plt.xlabel('X')\n",
        "plt.ylabel('Y')\n",
        "plt.gca().set_aspect('equal', adjustable='box')\n",
        "plt.xlim([0, 3])\n",
        "plt.ylim([0, 3])\n",
        "plt.gca().invert_yaxis()\n",
        "plt.savefig('vel_inversion_checkboard_singular.png')\n",
        "\n",
        "plt.figure()\n",
        "DVdiff = DVinv - DV\n",
        "c = plt.imshow(DVdiff.T,extent=(0, 3, 0, 3), cmap='jet')\n",
        "plt.colorbar(c, label='Difference')\n",
        "plt.title('Difference between Inversion and Input')\n",
        "plt.xlabel('X')\n",
        "plt.ylabel('Y')\n",
        "plt.gca().set_aspect('equal', adjustable='box')\n",
        "plt.xlim([0, 3])\n",
        "plt.ylim([0, 3])\n",
        "plt.gca().invert_yaxis()\n",
        "plt.savefig('vel_inversion_checkboard_singular_difference.png')\n",
        "\n",
        "\n",
        "\n",
        "\n",
        "\n",
        "\n"
      ],
      "metadata": {
        "id": "wMGDuLbRs61X"
      },
      "execution_count": null,
      "outputs": []
    },
    {
      "cell_type": "markdown",
      "source": [
        "Now solve with regularization, what is the difference?"
      ],
      "metadata": {
        "id": "yJ5qPrt4-BFs"
      }
    },
    {
      "cell_type": "code",
      "source": [
        "\n",
        "\n",
        "\n",
        "\n",
        "# Inversion with regularization (lambda=1)\n",
        "lambda_ = 1\n",
        "d_new = np.concatenate((dt_obs, np.zeros((9, 1))))\n",
        "G_new = np.vstack((G, lambda_ * np.eye(9)))\n",
        "#m_lambda = np.linalg.lstsq(G_new.T.dot(G_new), G_new.T.dot(d_new), rcond=None)[0]\n",
        "m_lambda = np.dot(np.dot(np.linalg.inv(np.dot(G_new.T,G_new)),G_new.T),d_new)\n",
        "ds_inv_lambda = m_lambda\n",
        "dv_inv_lambda = -ds_inv_lambda\n",
        "\n",
        "# Display inversion results with regularization\n",
        "plt.figure()\n",
        "DVinv_lambda = dv_inv_lambda.reshape(3, 3)\n",
        "d = plt.imshow(DVinv_lambda.T, extent=(0, 3, 0, 3), cmap='jet')\n",
        "plt.colorbar(d, label='Velocity Perturbation')\n",
        "plt.title('Inversion of Velocity Perturbation with Regularization (lambda=1)')\n",
        "plt.xlabel('X')\n",
        "plt.ylabel('Y')\n",
        "plt.gca().set_aspect('equal', adjustable='box')\n",
        "plt.xlim([0, 3])\n",
        "plt.ylim([0, 3])\n",
        "plt.gca().invert_yaxis()\n",
        "plt.savefig('vel_inversion_checkboard_singular_lambda=1.png')\n",
        "\n",
        "plt.figure()\n",
        "DVdiff_lambda = DVinv_lambda - DV\n",
        "e = plt.imshow(DVdiff_lambda.T, extent=(0, 3, 0, 3), cmap='jet', vmin=-0.2, vmax=0.2)\n",
        "plt.colorbar(e, label='Difference')\n",
        "plt.title('Difference between Inversion with lambda=1 and Input')\n",
        "plt.xlabel('X')\n",
        "plt.ylabel('Y')\n",
        "plt.gca().set_aspect('equal', adjustable='box')\n",
        "plt.xlim([0, 3])\n",
        "plt.ylim([0, 3])\n",
        "plt.gca().invert_yaxis()\n",
        "plt.savefig('vel_inversion_checkboard_singular_lambda=1_difference.png')\n",
        "\n",
        "plt.show()\n"
      ],
      "metadata": {
        "id": "7qfjkX7UtPhu"
      },
      "execution_count": null,
      "outputs": []
    },
    {
      "cell_type": "markdown",
      "source": [
        "What is the effect of regularization? Let's probe that a little. Now solve for a range of lambda and examine the misfit and norm"
      ],
      "metadata": {
        "id": "8wuV7OOB-E54"
      }
    },
    {
      "cell_type": "code",
      "source": [
        "\n",
        "\n",
        "\n",
        "\n",
        "d_new = np.concatenate((dt_obs, np.zeros((9, 1))))\n",
        "\n",
        "lambda0 = np.linspace(0.001, 10, 101)\n",
        "misfit = np.zeros_like(lambda0)\n",
        "normm = np.zeros_like(lambda0)\n",
        "ds_inv = np.zeros((len(lambda0), 9))\n",
        "dv_inv = np.zeros_like(ds_inv)\n",
        "\n",
        "for l in range(len(lambda0)):\n",
        "    lambda_ = lambda0[l]\n",
        "    G_new = np.vstack((G, lambda_ * np.eye(9)))\n",
        "    m_lambda = np.dot(np.dot(np.linalg.inv(np.dot(G_new.T,G_new)),G_new.T),d_new)\n",
        "    ds_inv[l, :] = m_lambda.T\n",
        "    dv_inv[l, :] = -m_lambda.T\n",
        "    dpred = G.dot(m_lambda)\n",
        "    residual = dt_obs - dpred\n",
        "    misfit[l] = np.sqrt(np.sum(residual ** 2))\n",
        "    normm[l] = np.sqrt(np.sum(m_lambda ** 2))\n",
        "\n",
        "\n",
        "x = np.sqrt((normm / np.max(normm))**2 + (misfit / np.max(misfit))**2)\n",
        "nbest = np.where(x == np.min(x))[0]\n",
        "print(lambda0[nbest[0]])\n",
        "\n",
        "plt.figure()\n",
        "#plot lambda vs misfit\n",
        "plt.plot()\n",
        "\n",
        "\n",
        "plt.figure()\n",
        "#plot lambda vs norm\n",
        "plt.plot()\n",
        "\n",
        "plt.figure()\n",
        "#plot misfit vs norm\n",
        "\n",
        "plt.figure()\n",
        "#plot lambda0 vs x\n",
        "\n"
      ],
      "metadata": {
        "id": "Lvpsw_wetLJ_"
      },
      "execution_count": null,
      "outputs": []
    },
    {
      "cell_type": "markdown",
      "source": [
        "Plot the model at optimal lambda, then plot model with smallest lambda and model with largest lambda.\n",
        "\n",
        "Show the three figures side-by-side, and compare the difference.\n",
        "\n",
        "Note that in the sample code above, we saved the model for each lambda in dv_inv. To plot the model for specific lambda values, you need to find the index number for the lambda requested, then get the model:\n",
        "DVinv = np.reshape(dv_inv[nbest],(3,3))\n",
        "\n",
        "\n",
        "Then, you follow the code above to plot the velocity images.\n",
        "\n",
        "\n",
        "np.reshape(dv_inv[nbest],(3,3))"
      ],
      "metadata": {
        "id": "1AjCJFrF70_O"
      }
    },
    {
      "cell_type": "code",
      "source": [],
      "metadata": {
        "id": "E2qtaIlW83OB"
      },
      "execution_count": null,
      "outputs": []
    },
    {
      "cell_type": "markdown",
      "source": [],
      "metadata": {
        "id": "0yygS8PE84pd"
      }
    }
  ]
}