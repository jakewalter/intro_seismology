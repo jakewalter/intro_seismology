{
  "nbformat": 4,
  "nbformat_minor": 0,
  "metadata": {
    "colab": {
      "provenance": [],
      "authorship_tag": "ABX9TyOYXDtz+fkuvIloHCHjNBD+",
      "include_colab_link": true
    },
    "kernelspec": {
      "name": "python3",
      "display_name": "Python 3"
    },
    "language_info": {
      "name": "python"
    }
  },
  "cells": [
    {
      "cell_type": "markdown",
      "metadata": {
        "id": "view-in-github",
        "colab_type": "text"
      },
      "source": [
        "<a href=\"https://colab.research.google.com/github/jakewalter/intro_seismology/blob/main/ray_tracing.ipynb\" target=\"_parent\"><img src=\"https://colab.research.google.com/assets/colab-badge.svg\" alt=\"Open In Colab\"/></a>"
      ]
    },
    {
      "cell_type": "code",
      "execution_count": 1,
      "metadata": {
        "id": "Q5MNYtm9cblk"
      },
      "outputs": [],
      "source": [
        "import math\n",
        "import numpy as np\n",
        "import matplotlib.pyplot as plt\n",
        "\n",
        "\n",
        "\n",
        "def layerxt(p, h, utop, ubot):\n",
        "  # returns [dx, dt, irtr]\n",
        "\n",
        "  if p >= utop: return [0.0, 0.0, 0]\n",
        "  elif h==0: return [0.0, 0.0, -1]\n",
        "  else:\n",
        "\n",
        "    b = 1.0/(ubot*h) - 1.0/(utop*h)\n",
        "\n",
        "    def eta(u): return math.sqrt(u**2-p**2)\n",
        "    def x(u): return eta(u)/(u*b*p)\n",
        "    def t(u): return (math.log((u+eta(u))/p))/b\n",
        "\n",
        "    if utop == ubot: return [h*p/eta(utop), h*utop**2/eta(utop), 1 ]\n",
        "    elif p>=ubot: return [x(utop), t(utop), 2]\n",
        "    else: return [x(utop) - x(ubot), t(utop)-t(ubot), 1]\n",
        "\n",
        "vdep = np.array([??])  # depth values\n",
        "vp = np.array([??])   # p-wave\n",
        "vs = np.array([??])   # s-wave\n",
        "rho = np.array([??])   # density\n",
        "\n",
        "up =\n",
        "us =\n",
        "\n",
        "# Plot velocity model\n",
        "plt.figure()\n",
        "plt.plot(vp, vdep)\n",
        "plt.plot(vs, vdep)\n",
        "plt.plot(rho, vdep)\n",
        "plt.gca().invert_yaxis()\n",
        "plt.xlabel('Velocity')\n",
        "plt.ylabel('Depth (km)')\n",
        "plt.legend(['Vp', 'Vs', 'Density'])\n",
        "plt.savefig('vmodel.png')\n",
        "\n",
        "\n",
        "dep_fine = np.arange(0, 10.05, 0.05)\n",
        "up_fine = np.interp(dep_fine, vdep, up)\n",
        "us_fine = np.interp(dep_fine, vdep, us)\n",
        "\n"
      ]
    },
    {
      "cell_type": "markdown",
      "source": [
        "If you noticed there is interpolation done on this previous step. Now let's define our p range follow it as a goes through depth"
      ],
      "metadata": {
        "id": "rt6Wx0hwswtN"
      }
    },
    {
      "cell_type": "code",
      "source": [
        "p_all = np.linspace()\n",
        "\n",
        "X =\n",
        "T =\n",
        "tau =\n",
        "\n",
        "for ip in range(100):\n",
        "    p = p_all[ip]\n",
        "    for ih in range(len(dep_fine) - 1):\n",
        "        h = dep_fine[ih + 1] - dep_fine[ih]\n",
        "        utop = up_fine[ih]\n",
        "        ubot = up_fine[ih + 1]\n",
        "        dx, dt, irtr = layerxt(p, h, utop, ubot)\n",
        "        if irtr == 1:\n",
        "            X[ip] += dx\n",
        "            T[ip] += dt\n",
        "        elif irtr == 2:\n",
        "            X[ip] *= 2\n",
        "            T[ip] *= 2\n",
        "            tau[ip] = T[ip] - p * X[ip]\n",
        "            break\n",
        "\n",
        "#Plot X, T\n",
        "\n",
        "\n",
        "#Plot t_reduce\n",
        "T_reduce =\n",
        "\n",
        "\n",
        "\n",
        "\n",
        "#Plot p, X\n",
        "\n",
        "\n",
        "\n",
        "\n",
        "\n",
        "\n",
        "\n",
        "#Plot P, tau\n",
        "\n",
        "\n",
        "\n",
        "\n",
        "\n",
        "\n",
        "\n",
        "\n",
        "####################### Now do the S-wave"
      ],
      "metadata": {
        "id": "cIZxW3Wzsaao"
      },
      "execution_count": null,
      "outputs": []
    }
  ]
}