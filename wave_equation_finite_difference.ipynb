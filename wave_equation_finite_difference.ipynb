{
  "nbformat": 4,
  "nbformat_minor": 0,
  "metadata": {
    "colab": {
      "provenance": [],
      "authorship_tag": "ABX9TyOa5IlLWzbu4B9+B0eqNiJg",
      "include_colab_link": true
    },
    "kernelspec": {
      "name": "python3",
      "display_name": "Python 3"
    },
    "language_info": {
      "name": "python"
    }
  },
  "cells": [
    {
      "cell_type": "markdown",
      "metadata": {
        "id": "view-in-github",
        "colab_type": "text"
      },
      "source": [
        "<a href=\"https://colab.research.google.com/github/jakewalter/intro_seismology/blob/main/wave_equation_finite_difference.ipynb\" target=\"_parent\"><img src=\"https://colab.research.google.com/assets/colab-badge.svg\" alt=\"Open In Colab\"/></a>"
      ]
    },
    {
      "cell_type": "code",
      "execution_count": null,
      "metadata": {
        "id": "2U1zh8vMMZWv"
      },
      "outputs": [],
      "source": [
        "# Setup your variables\n",
        "\n",
        "# Main loop (need to fix for your range of T)\n",
        "for :\n",
        "    t = T[it]\n",
        "    for i in range(1, 99):\n",
        "        rhs = beta**2 * (u2[i+1] - 2 * u2[i] + u2[i-1]) / dx**2\n",
        "        u3[i] = dt**2 * rhs + 2 * u2[i] - u1[i]\n",
        "\n",
        "    # Apply boundary conditions\n",
        "    u3[0] = u3[1]  # Stress-free boundary condition at 0 km\n",
        "    u3[99] = 0    # Fixed boundary at 100 km\n",
        "\n",
        "    # Apply source term\n",
        "    if t <= tlen:\n",
        "        u3[nsource] = np.sin(np.pi * t / tlen)**2\n",
        "\n",
        "    # Update solution vectors for next time step\n",
        "    u1[:] = u2[:]\n",
        "    u2[:] = u3[:]\n",
        "\n",
        "    # Plot it in your loop so it updates at every n seconds\n"
      ]
    }
  ]
}