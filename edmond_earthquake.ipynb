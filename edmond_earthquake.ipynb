{
  "nbformat": 4,
  "nbformat_minor": 0,
  "metadata": {
    "colab": {
      "provenance": [],
      "authorship_tag": "ABX9TyOBapsMtB00Gl3rw9rG8lf5",
      "include_colab_link": true
    },
    "kernelspec": {
      "name": "python3",
      "display_name": "Python 3"
    },
    "language_info": {
      "name": "python"
    }
  },
  "cells": [
    {
      "cell_type": "markdown",
      "metadata": {
        "id": "view-in-github",
        "colab_type": "text"
      },
      "source": [
        "<a href=\"https://colab.research.google.com/github/jakewalter/intro_seismology/blob/main/edmond_earthquake.ipynb\" target=\"_parent\"><img src=\"https://colab.research.google.com/assets/colab-badge.svg\" alt=\"Open In Colab\"/></a>"
      ]
    },
    {
      "cell_type": "code",
      "execution_count": null,
      "metadata": {
        "id": "a42B5KSVcZy0"
      },
      "outputs": [],
      "source": [
        "!pip install obspy\n",
        "\n",
        "from obspy import UTCDateTime\n",
        "from obspy.clients.fdsn import Client\n",
        "\n",
        "##### Find the time of the earthquake from https://wichita.ogs.ou.edu/staff/earthquake/events.html or https://earthquake.usgs.gov/\n",
        "starttime = UTCDateTime(\"2024-02-03T05:24:28.26\") #in format 2023-03-17T07:13:24.67\n",
        "endtime = starttime+120\n",
        "\n",
        "##### Choose a station\n",
        "sta1a = 'FNO'\n",
        "client = Client('IRIS')\n",
        "\n",
        "##### Download waveforms\n",
        "st = client.get_waveforms(network='*', station=sta1a, location='*', channel='HHZ', starttime=starttime, endtime=endtime)\n",
        "print(st[0].stats)\n",
        "\n",
        "##### Plot waveforms\n",
        "st.plot()"
      ]
    },
    {
      "cell_type": "markdown",
      "source": [
        "You should see some wiggles from the M5.1 earthquake Friday night near Prague. But what are the units?\n",
        "\n",
        "\n"
      ],
      "metadata": {
        "id": "qkA9FbwvlOuk"
      }
    },
    {
      "cell_type": "code",
      "source": [
        "inv = client.get_stations(starttime=starttime, endtime=endtime,network=\"*\", loc=\"*\", channel='HHZ',station=sta1a,level=\"response\")\n",
        "print(inv[0][0])"
      ],
      "metadata": {
        "id": "IcYIOd4Ulkdh"
      },
      "execution_count": null,
      "outputs": []
    },
    {
      "cell_type": "code",
      "source": [
        "print(inv[0][0][0])"
      ],
      "metadata": {
        "id": "lW1n4pRkmok9"
      },
      "execution_count": null,
      "outputs": []
    },
    {
      "cell_type": "code",
      "source": [
        "st.remove_response(inventory=inv, pre_filt=[1, 2, 45, 50], output=\"DISP\",water_level=60)\n",
        "st.plot()"
      ],
      "metadata": {
        "id": "HE9x2AeKmsc-"
      },
      "execution_count": null,
      "outputs": []
    },
    {
      "cell_type": "markdown",
      "source": [
        "What do you notice about the waveform compared to the uncorrected data?"
      ],
      "metadata": {
        "id": "_jZo2ZyvmzH8"
      }
    },
    {
      "cell_type": "code",
      "source": [
        "sta2a = 'WILZ'\n",
        "\n",
        "##### Download waveforms\n",
        "st2 = client.get_waveforms(network='*', station=sta2a, location='*', channel='EHZ', starttime=starttime, endtime=endtime)\n",
        "inv2 = client.get_stations(starttime=starttime, endtime=endtime,network=\"O2\", channel='EHZ',station=sta2a,level=\"response\")\n",
        "\n",
        "st2.remove_response(inventory=inv2, pre_filt=[1, 2, 45, 50], output=\"DISP\",water_level=60)\n",
        "st2.plot()\n"
      ],
      "metadata": {
        "id": "HKQ9ARgim0qB"
      },
      "execution_count": null,
      "outputs": []
    },
    {
      "cell_type": "code",
      "source": [
        "st.extend(st2)\n",
        "st.plot()"
      ],
      "metadata": {
        "id": "4TTsd_mynX10"
      },
      "execution_count": null,
      "outputs": []
    },
    {
      "cell_type": "markdown",
      "source": [
        "Notice the difference in amplitude and time? What is the relative time difference between the two plot first arrivals? Just guess based on the plot"
      ],
      "metadata": {
        "id": "TQEg2g-coyH-"
      }
    },
    {
      "cell_type": "code",
      "source": [
        "from obspy.geodetics import gps2dist_azimuth\n",
        "\n",
        "dist, az, baz = gps2dist_azimuth(inv[0][0].latitude,inv[0][0].longitude,inv2[0][0].latitude,inv2[0][0].longitude)\n",
        "print(str(dist)+' m')"
      ],
      "metadata": {
        "colab": {
          "base_uri": "https://localhost:8080/"
        },
        "id": "eoJbleK-o7xq",
        "outputId": "f9c35257-487d-4826-dd65-3596b945fa05"
      },
      "execution_count": 28,
      "outputs": [
        {
          "output_type": "stream",
          "name": "stdout",
          "text": [
            "67735.3760037192 m\n"
          ]
        }
      ]
    },
    {
      "cell_type": "markdown",
      "source": [
        "Now estimate the speed in km/s"
      ],
      "metadata": {
        "id": "IEhVvXLppwIY"
      }
    },
    {
      "cell_type": "code",
      "source": [
        "\n",
        "t_diff =\n",
        "speed ="
      ],
      "metadata": {
        "id": "K9OyAhNspyWX"
      },
      "execution_count": null,
      "outputs": []
    },
    {
      "cell_type": "code",
      "source": [
        "import numpy as np\n",
        "\n",
        "\n",
        "amp1 = np.max(st[0].data)\n",
        "amp2 = np.max(st[1].data)\n",
        "print(amp1)\n",
        "print(amp2)\n",
        "amp2-amp1\n"
      ],
      "metadata": {
        "id": "sBRwnIFMp315"
      },
      "execution_count": null,
      "outputs": []
    },
    {
      "cell_type": "code",
      "source": [
        "sta2a = 'WILZ'\n",
        "\n",
        "\n",
        "st2 = client.get_waveforms(network='*', station=sta2a, location='*', channel='EHZ', starttime=starttime, endtime=endtime)\n",
        "inv2 = client.get_stations(starttime=starttime, endtime=endtime,network=\"O2\", channel='EHZ',station=sta2a,level=\"response\")\n",
        "\n",
        "st2.remove_response(inventory=inv2, pre_filt=[0.005, 0.006, 40.0, 45.0], output=\"DISP\",water_level=60)\n",
        "st2.plot()\n",
        "\n",
        "\n",
        "data = np.gradient(st[1].data, st[1].stats.delta)\n",
        "if abs(max(data)) >= abs(min(data)):\n",
        "    m_vel = abs(max(data))\n",
        "else:\n",
        "    m_vel = abs(min(data))\n",
        "\n",
        "# Acceleration\n",
        "data = np.gradient(data, st[1].stats.delta)\n",
        "if abs(max(data)) >= abs(min(data)):\n",
        "    m_acc = abs(max(data))\n",
        "else:\n",
        "    m_acc = abs(min(data))\n",
        "\n",
        "print(m_acc)"
      ],
      "metadata": {
        "id": "614xobleqbNS"
      },
      "execution_count": null,
      "outputs": []
    },
    {
      "cell_type": "code",
      "source": [
        "\n",
        "st3 = client.get_waveforms(network='*', station=sta2a, location='*', channel='EHN', starttime=starttime, endtime=endtime)\n",
        "inv3 = client.get_stations(starttime=starttime, endtime=endtime,network=\"O2\", channel='EHN',station=sta2a,level=\"response\")\n",
        "\n",
        "st3.remove_response(inventory=inv3, pre_filt=[0.005, 0.006, 40.0, 45.0], output=\"DISP\",water_level=60)\n",
        "st3.plot()\n",
        "\n",
        "\n",
        "data = np.gradient(st3[0].data, st3[0].stats.delta)\n",
        "if abs(max(data)) >= abs(min(data)):\n",
        "    m_vel = abs(max(data))\n",
        "else:\n",
        "    m_vel = abs(min(data))\n",
        "\n",
        "# Acceleration\n",
        "data = np.gradient(data, st3[0].stats.delta)\n",
        "if abs(max(data)) >= abs(min(data)):\n",
        "    m_acc = abs(max(data))\n",
        "else:\n",
        "    m_acc = abs(min(data))\n",
        "\n",
        "print(m_acc)"
      ],
      "metadata": {
        "id": "0qLQpVgSsbUc"
      },
      "execution_count": null,
      "outputs": []
    },
    {
      "cell_type": "markdown",
      "source": [
        "Which direction is the first movement. What do you think of this compared to the moment tensor solution: https://earthquake.usgs.gov/earthquakes/eventpage/ok2024cish/\n",
        "\n",
        "Find this station on the map: https://wichita.ogs.ou.edu/staff/earthquake/events.html\n"
      ],
      "metadata": {
        "id": "IW25c2iQt8TP"
      }
    },
    {
      "cell_type": "code",
      "source": [],
      "metadata": {
        "id": "6fHKWvsEuIW0"
      },
      "execution_count": null,
      "outputs": []
    }
  ]
}