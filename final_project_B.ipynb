{
  "nbformat": 4,
  "nbformat_minor": 0,
  "metadata": {
    "colab": {
      "provenance": [],
      "authorship_tag": "ABX9TyO+cNc3vUU0MK68zn6Sle2c",
      "include_colab_link": true
    },
    "kernelspec": {
      "name": "python3",
      "display_name": "Python 3"
    },
    "language_info": {
      "name": "python"
    }
  },
  "cells": [
    {
      "cell_type": "markdown",
      "metadata": {
        "id": "view-in-github",
        "colab_type": "text"
      },
      "source": [
        "<a href=\"https://colab.research.google.com/github/jakewalter/intro_seismology/blob/main/final_project_B.ipynb\" target=\"_parent\"><img src=\"https://colab.research.google.com/assets/colab-badge.svg\" alt=\"Open In Colab\"/></a>"
      ]
    },
    {
      "cell_type": "code",
      "execution_count": null,
      "metadata": {
        "id": "lR-HoC5Ar24t"
      },
      "outputs": [],
      "source": [
        "import numpy as np\n",
        "import matplotlib.pyplot as plt\n",
        "from mpl_toolkits.mplot3d import Axes3D\n",
        "\n",
        "!wget https://jakewalter.mynetgear.com/data/data.zip\n",
        "!unzip data.zip\n",
        "\n",
        "\n",
        "import scipy.io as sio\n",
        "sta = sio.loadmat('station.mat')\n",
        "# fracout = simpl['fracoutsimple']\n",
        "# fracouta = simpl['fracoutsimplea']\n",
        "\n",
        "# Load data\n",
        "M6_2017 = sio.loadmat('M6_2017.mat')\n",
        "#M6_2017 = np.load('M6_2017.npy', allow_pickle=True).item()\n",
        "\n",
        "# Load pre-existing picks\n",
        "ppick_exist = sio.loadmat('ppick_exist.mat')\n",
        "pick = ppick_exist['ppick'][0][1][0]\n",
        "\n",
        "# Plot waveform for each station and pick polarity\n",
        "Nst = len(M6_2017['data']['samprate'][0][0][0])\n",
        "twin_frompick = [-10, 20]  # in seconds: will use waveform 2 seconds before and 10 seconds after the pick.\n",
        "polarity = np.zeros(Nst)\n",
        "\n",
        "for ist in range(Nst):\n",
        "    tnwin_frompick = np.round(np.array(twin_frompick) * M6_2017['data']['samprate'][0][0][0][ist]).astype(int)  # Convert time window to samples\n",
        "    tn = np.round(pick[ist] * M6_2017['data']['samprate'][0][0][0][ist]) + tnwin_frompick  # Sample index for event 1\n",
        "\n",
        "    trace = M6_2017['data']['seis'][0][0][0][ist][int(tn[0]):int(tn[1])]  # Seismic waveform 1 at each common station\n",
        "    trace = trace - np.mean(trace)  # Remove mean of the trace\n",
        "    timestamp = np.arange(tnwin_frompick[0], tnwin_frompick[1]) / M6_2017['data']['samprate'][0][0][0][ist]  # Time stamp for each data point for plotting\n",
        "    staname = M6_2017['data']['stid'][0][0][0][ist][0]\n",
        "    plt.figure()\n",
        "    plt.plot(timestamp, trace, 'k', linewidth=1.5)\n",
        "    plt.plot([0, 0], [0, np.max(trace) / 10], 'r', linewidth=1)\n",
        "    plt.plot(twin_frompick, [0, 0], 'r-', linewidth=1)\n",
        "    plt.xlabel('time (seconds)')\n",
        "    plt.ylabel('amplitude')\n",
        "    plt.title(f\"station: {staname}\")\n",
        "    plt.grid(True)\n",
        "    plt.show()\n",
        "    # Please enter your polarity pick in the command window\n",
        "    #polarity[ist] = input(f\"station {ist + 1}: polarity (1: up, -1: down, 0: unclear): \")\n"
      ]
    },
    {
      "cell_type": "code",
      "source": [
        "for ist in range(Nst):\n",
        "    polarity[ist] = int(input(f\"station {M6_2017['data']['stid'][0][0][0][ist][0]}: polarity (1: up, -1: down, 0: unclear): \"))\n"
      ],
      "metadata": {
        "id": "m0EnK2QpvNeQ"
      },
      "execution_count": null,
      "outputs": []
    },
    {
      "cell_type": "code",
      "source": [
        "\n",
        "# Making polarity plot for interpretation\n",
        "stlat = sta['stlat'][0]\n",
        "stlon = sta['stlon'][0]\n",
        "qlat = M6_2017['data']['qlat'][0][0][0][0]\n",
        "qlon = M6_2017['data']['qlon'][0][0][0][0]\n",
        "\n",
        "stdist, staz = [], []\n",
        "for idx1, stid1 in enumerate(sta['stid'][0]):\n",
        "    stid = stid1[0]\n",
        "\n",
        "    dist = np.sqrt((qlat - stlat[idx1]) ** 2 + (qlon - stlon[idx1]) ** 2)\n",
        "    stdist.append(dist)\n",
        "    staz.append(np.rad2deg(np.arctan2(qlon - stlon[idx1], qlat - stlat[idx1])))\n",
        "\n",
        "polar_r = np.ones(Nst)\n",
        "polar_th = np.array(staz)\n",
        "plt.figure()\n",
        "ax = plt.subplot(111, polar=True)\n",
        "for ist in range(Nst):\n",
        "    if polarity[ist] == 1:\n",
        "        ax.text(polar_th[ist], polar_r[ist], '+', fontsize=18)\n",
        "    elif polarity[ist] == -1:\n",
        "        ax.text(polar_th[ist], polar_r[ist], 'o', fontsize=18)\n",
        "\n",
        "ax.set_theta_zero_location('N')\n",
        "ax.set_theta_direction(-1)\n",
        "plt.show()"
      ],
      "metadata": {
        "id": "PKMyMoEGu1hn"
      },
      "execution_count": null,
      "outputs": []
    }
  ]
}